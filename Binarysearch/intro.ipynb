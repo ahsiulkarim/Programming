{
 "cells": [
  {
   "cell_type": "code",
   "execution_count": 25,
   "metadata": {},
   "outputs": [
    {
     "name": "stdout",
     "output_type": "stream",
     "text": [
      "['c', 'c++', 'java', 'python', 'BASIC']\n",
      "java\n",
      "['python', 'BASIC']\n",
      "java\n",
      "False\n",
      "True\n",
      "['c', 'c++', 'java', 'python', 'BASIC', 'audri', 30]\n",
      "['c', 'c++', 'java', 'python', 'BASIC', 'c', 'c++', 'java', 'python', 'BASIC', 'c', 'c++', 'java', 'python', 'BASIC', 'c', 'c++', 'java', 'python', 'BASIC', 'c', 'c++', 'java', 'python', 'BASIC']\n"
     ]
    }
   ],
   "source": [
    "subjects = [\"c\", \"c++\", \"java\", \"python\", \"BASIC\"]\n",
    "\n",
    "print(subjects)\n",
    "print(subjects[2])\n",
    "print(subjects[3:])\n",
    "print(subjects[-3])\n",
    "\n",
    "print(\"bagachara\" in subjects)\n",
    "print(\"navaron\" not in subjects)\n",
    "\n",
    "print(subjects + [\"audri\",30])\n",
    "\n",
    "print(subjects * 5)\n",
    "\n",
    "\n",
    "\n"
   ]
  },
  {
   "cell_type": "code",
   "execution_count": 24,
   "metadata": {},
   "outputs": [
    {
     "name": "stdout",
     "output_type": "stream",
     "text": [
      "['BASIC', 'python', 'java', 'c++', 'c', 'DOC']\n",
      "['BASIC', 'python', 'DLD', 'java', 'c++', 'c', 'DOC']\n",
      "['BASIC', 'python', 'java', 'c++', 'c', 'DOC']\n",
      "['BASIC', 'DOC', 'c', 'c++', 'java', 'python']\n",
      "['python', 'java', 'c++', 'c', 'DOC', 'BASIC']\n"
     ]
    }
   ],
   "source": [
    "subjects.append(\"DOC\")\n",
    "print(subjects)\n",
    "subjects.insert(2,\"DLD\")\n",
    "print(subjects)\n",
    "subjects.remove(\"DLD\")\n",
    "print(subjects)\n",
    "subjects.sort()\n",
    "print(subjects)\n",
    "\n",
    "subjects.reverse()\n",
    "print(subjects)"
   ]
  },
  {
   "cell_type": "code",
   "execution_count": null,
   "metadata": {},
   "outputs": [],
   "source": []
  }
 ],
 "metadata": {
  "kernelspec": {
   "display_name": "Python 3",
   "language": "python",
   "name": "python3"
  },
  "language_info": {
   "codemirror_mode": {
    "name": "ipython",
    "version": 3
   },
   "file_extension": ".py",
   "mimetype": "text/x-python",
   "name": "python",
   "nbconvert_exporter": "python",
   "pygments_lexer": "ipython3",
   "version": "3.12.5"
  }
 },
 "nbformat": 4,
 "nbformat_minor": 2
}
