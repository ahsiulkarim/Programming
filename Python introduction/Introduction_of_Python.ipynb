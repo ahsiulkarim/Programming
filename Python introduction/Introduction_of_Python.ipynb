{
  "cells": [
    {
      "cell_type": "markdown",
      "metadata": {
        "colab_type": "text",
        "id": "view-in-github"
      },
      "source": [
        "<a href=\"https://colab.research.google.com/github/ahsiulkarim/Programming/blob/main/Introduction_of_Python.ipynb\" target=\"_parent\"><img src=\"https://colab.research.google.com/assets/colab-badge.svg\" alt=\"Open In Colab\"/></a>"
      ]
    },
    {
      "cell_type": "markdown",
      "metadata": {
        "id": "WQMGYnq2shI2"
      },
      "source": [
        "First Problem\n",
        "\n",
        "print string like hello world and whatever you want\n"
      ]
    },
    {
      "cell_type": "code",
      "execution_count": null,
      "metadata": {
        "colab": {
          "base_uri": "https://localhost:8080/"
        },
        "id": "OOVEsO_FruuX",
        "outputId": "4bc0190b-a746-4736-c5ca-021b1e64f47c"
      },
      "outputs": [
        {
          "name": "stdout",
          "output_type": "stream",
          "text": [
            "Hello World\n"
          ]
        }
      ],
      "source": [
        "print(\"Hello World\")"
      ]
    },
    {
      "cell_type": "code",
      "execution_count": null,
      "metadata": {
        "colab": {
          "base_uri": "https://localhost:8080/"
        },
        "id": "SDCGB8M0tWDT",
        "outputId": "dfd39148-e365-40ee-c9e2-d23251d7ea9e"
      },
      "outputs": [
        {
          "name": "stdout",
          "output_type": "stream",
          "text": [
            "3.10.12 (main, Nov 20 2023, 15:14:05) [GCC 11.4.0]\n"
          ]
        }
      ],
      "source": [
        "import sys\n",
        "print(sys.version)"
      ]
    },
    {
      "cell_type": "code",
      "execution_count": null,
      "metadata": {
        "colab": {
          "base_uri": "https://localhost:8080/"
        },
        "id": "IAhIHGXPtfKV",
        "outputId": "aa7738c2-3ce2-4f12-e0e4-a5a8424002ae"
      },
      "outputs": [
        {
          "name": "stdout",
          "output_type": "stream",
          "text": [
            "True\n"
          ]
        }
      ],
      "source": [
        "if 8 % 4 == 0:\n",
        "      print(\"True\")\n",
        "else:\n",
        "  print(\"False\")"
      ]
    },
    {
      "cell_type": "code",
      "execution_count": null,
      "metadata": {
        "id": "m1BvgbpMvZ4-"
      },
      "outputs": [],
      "source": []
    },
    {
      "cell_type": "code",
      "execution_count": null,
      "metadata": {
        "colab": {
          "base_uri": "https://localhost:8080/"
        },
        "id": "FQSi0T9PvWwt",
        "outputId": "3672e75f-addd-418d-d3a9-c716c791d8c4"
      },
      "outputs": [
        {
          "name": "stdout",
          "output_type": "stream",
          "text": [
            "Yes 8 is greater than 2\n"
          ]
        }
      ],
      "source": [
        "if 8>2:\n",
        "  print(\"Yes 8 is greater than 2\")"
      ]
    },
    {
      "cell_type": "code",
      "execution_count": null,
      "metadata": {
        "colab": {
          "base_uri": "https://localhost:8080/"
        },
        "id": "LjqvBND_xUNI",
        "outputId": "692b82fc-5931-40fa-9bb9-fd99163dcce6"
      },
      "outputs": [
        {
          "name": "stdout",
          "output_type": "stream",
          "text": [
            "2.0\n",
            "This is our first class\n",
            "<class 'float'>\n",
            "<class 'str'>\n"
          ]
        }
      ],
      "source": [
        "x = 2\n",
        "x = float(x)\n",
        "y = \"This is our first class\"\n",
        "print(x)\n",
        "print(y)\n",
        "print(type(x))\n",
        "print(type(y))\n"
      ]
    },
    {
      "cell_type": "code",
      "execution_count": null,
      "metadata": {
        "colab": {
          "base_uri": "https://localhost:8080/"
        },
        "id": "BJR4DBe8yrz_",
        "outputId": "ef3b2ece-32dc-49a0-e431-1eda211ed5f3"
      },
      "outputs": [
        {
          "name": "stdout",
          "output_type": "stream",
          "text": [
            "119\n"
          ]
        }
      ],
      "source": [
        "a,b,c = 32,65,22\n",
        "print(a + b + c)"
      ]
    },
    {
      "cell_type": "code",
      "execution_count": null,
      "metadata": {
        "id": "xb_rAXcz0HlD"
      },
      "outputs": [],
      "source": [
        "def even_odd(num):\n",
        "  if num % 2 == 0:\n",
        "    print(\"Even\")\n",
        "  else:\n",
        "    print(\"Odd\")"
      ]
    },
    {
      "cell_type": "code",
      "execution_count": null,
      "metadata": {
        "colab": {
          "base_uri": "https://localhost:8080/"
        },
        "id": "pZItLXHS1BbK",
        "outputId": "6d95faa3-053d-45bf-fda2-377da20204d7"
      },
      "outputs": [
        {
          "name": "stdout",
          "output_type": "stream",
          "text": [
            "Odd\n"
          ]
        }
      ],
      "source": [
        "even_odd(9)"
      ]
    },
    {
      "cell_type": "code",
      "execution_count": null,
      "metadata": {
        "colab": {
          "base_uri": "https://localhost:8080/"
        },
        "id": "Jw13_IJ91efb",
        "outputId": "b04c7ca9-b3c0-4bd0-8aa4-8f792ea4ec6b"
      },
      "outputs": [
        {
          "name": "stdout",
          "output_type": "stream",
          "text": [
            "[2, 3, 5, 4, 5, 6]\n"
          ]
        }
      ],
      "source": [
        "a = [2,3,5]\n",
        "b = [4,5,6]\n",
        "c = a + b\n",
        "print(c)"
      ]
    },
    {
      "cell_type": "code",
      "execution_count": null,
      "metadata": {
        "colab": {
          "base_uri": "https://localhost:8080/"
        },
        "id": "dQuofZbJ15Ei",
        "outputId": "527a1f0f-ad50-445e-a024-2b4a8f96f279"
      },
      "outputs": [
        {
          "name": "stdout",
          "output_type": "stream",
          "text": [
            "Bangla\n"
          ]
        }
      ],
      "source": [
        "x = [\"Bangla\",\"English\",\"Math\"]\n",
        "print(x[0])"
      ]
    },
    {
      "cell_type": "code",
      "execution_count": null,
      "metadata": {
        "colab": {
          "base_uri": "https://localhost:8080/"
        },
        "id": "2rRE3WtO2LR5",
        "outputId": "62ad6f2d-16d5-40a8-c872-bd98ce3a3479"
      },
      "outputs": [
        {
          "name": "stdout",
          "output_type": "stream",
          "text": [
            "range(0, 9)\n"
          ]
        }
      ],
      "source": [
        "y = range(9)\n",
        "print(y)"
      ]
    },
    {
      "cell_type": "code",
      "execution_count": null,
      "metadata": {
        "colab": {
          "base_uri": "https://localhost:8080/"
        },
        "id": "JsTWW8k32gRI",
        "outputId": "8b78f5c7-42e3-4e21-f375-cd040541a365"
      },
      "outputs": [
        {
          "name": "stdout",
          "output_type": "stream",
          "text": [
            "True\n",
            "<class 'bool'>\n"
          ]
        }
      ],
      "source": [
        "x = True\n",
        "y = False\n",
        "print(x)\n",
        "print(type(x))"
      ]
    },
    {
      "cell_type": "code",
      "execution_count": null,
      "metadata": {
        "colab": {
          "base_uri": "https://localhost:8080/"
        },
        "id": "kb6iGaY23IeH",
        "outputId": "63139289-c2be-4be1-c9d5-61ca6a2dafc4"
      },
      "outputs": [
        {
          "name": "stdout",
          "output_type": "stream",
          "text": [
            "5\n"
          ]
        }
      ],
      "source": [
        "import random\n",
        "print(random.randint(1,10))"
      ]
    },
    {
      "cell_type": "code",
      "execution_count": null,
      "metadata": {
        "colab": {
          "base_uri": "https://localhost:8080/"
        },
        "id": "yzkrYL-75SAk",
        "outputId": "a0c17857-a05d-4235-d326-2e3c47dee4d9"
      },
      "outputs": [
        {
          "name": "stdout",
          "output_type": "stream",
          "text": [
            "d\n",
            "c\n",
            "b\n",
            "a\n"
          ]
        }
      ],
      "source": [
        "x = [\"a\",\"b\",\"c\",\"d\"]\n",
        "k = 4\n",
        "\n",
        "\n",
        "for i in reversed(range(k)): # 4 0\n",
        "  print(x[i])"
      ]
    },
    {
      "cell_type": "code",
      "execution_count": null,
      "metadata": {
        "colab": {
          "base_uri": "https://localhost:8080/"
        },
        "id": "vZxovsMm_5nJ",
        "outputId": "c5c074e8-c53f-4209-ba50-7ef3dba7fd9f"
      },
      "outputs": [
        {
          "name": "stdout",
          "output_type": "stream",
          "text": [
            "th\n"
          ]
        }
      ],
      "source": [
        "x = \"Math\"\n",
        "     #0 1 2 3\n",
        "print(x[2:])"
      ]
    },
    {
      "cell_type": "code",
      "execution_count": null,
      "metadata": {
        "colab": {
          "base_uri": "https://localhost:8080/"
        },
        "id": "nhwvNsCACT8p",
        "outputId": "f0d292b8-48a6-4b47-9702-8a1b4455e7c3"
      },
      "outputs": [
        {
          "name": "stdout",
          "output_type": "stream",
          "text": [
            "9\n",
            "5\n",
            "14\n",
            "3.5\n",
            "1\n",
            "3\n",
            "49\n"
          ]
        }
      ],
      "source": [
        "a = 7\n",
        "b = 2\n",
        "print(a+b)\n",
        "print(a-b)\n",
        "print(a*b)\n",
        "print(a/b)\n",
        "print(a%b)\n",
        "print(a//b)\n",
        "print(a**b)\n",
        "a = 9"
      ]
    },
    {
      "cell_type": "code",
      "execution_count": null,
      "metadata": {
        "colab": {
          "base_uri": "https://localhost:8080/"
        },
        "id": "chBztswpD9w9",
        "outputId": "e890cbe9-d015-4ca5-a51f-f7239e696fce"
      },
      "outputs": [
        {
          "name": "stdout",
          "output_type": "stream",
          "text": [
            "10\n"
          ]
        }
      ],
      "source": [
        "print(5 + 3 - 2 + 4)"
      ]
    },
    {
      "cell_type": "code",
      "execution_count": null,
      "metadata": {
        "colab": {
          "base_uri": "https://localhost:8080/"
        },
        "id": "22K6nWHnE3j9",
        "outputId": "d290aeb0-5143-46f9-91d9-8519c57e7b29"
      },
      "outputs": [
        {
          "name": "stdout",
          "output_type": "stream",
          "text": [
            "[1, 2, 3, 3, 5, 6, 7]\n",
            "[1, 2, 3, 8, 3, 5, 6, 7]\n"
          ]
        }
      ],
      "source": [
        "x = [1,2,3,3,5,6,7]\n",
        "print(x)\n",
        "x.insert(3,8)\n",
        "print(x)"
      ]
    },
    {
      "cell_type": "code",
      "execution_count": null,
      "metadata": {
        "id": "KKdNjmu-Gs_a"
      },
      "outputs": [],
      "source": [
        "x = [1,2,3,4,5,6]"
      ]
    },
    {
      "cell_type": "code",
      "execution_count": null,
      "metadata": {
        "colab": {
          "base_uri": "https://localhost:8080/"
        },
        "id": "K7CpieguGlDb",
        "outputId": "e512da7b-f696-4fbe-9265-aa0be25bdf8a"
      },
      "outputs": [
        {
          "name": "stdout",
          "output_type": "stream",
          "text": [
            "{100: 'a', 101: 'b', 103: 'c'}\n",
            "{'Audri': 'Undergraduate Student', 'Jannat': 'Graduate Student'}\n"
          ]
        }
      ],
      "source": [
        "#example of dictionary\n",
        "\n",
        "x = {100: 'a', 101: 'b', 103: 'c'}\n",
        "print(x)\n",
        "student = {'Audri': 'Undergraduate Student', 'Jannat':'Graduate Student'}\n",
        "print(student)\n"
      ]
    },
    {
      "cell_type": "code",
      "execution_count": null,
      "metadata": {
        "colab": {
          "base_uri": "https://localhost:8080/"
        },
        "id": "0yKApTHAAzO1",
        "outputId": "150c3060-3930-4eec-d8e3-8b5819b1bb74"
      },
      "outputs": [
        {
          "name": "stdout",
          "output_type": "stream",
          "text": [
            "{'2022-1-60-38': {'name': 'Audri', 'age': 28, 'CGPA': 3.5}, '2022-1-60-35': {'name': 'D', 'age': 28, 'CGPA': 3.5}, '2022-1-60-37': {'name': 'R', 'age': 28, 'CGPA': 3.5}, '2022-1-60-40': {'name': 'G', 'age': 28, 'CGPA': 3.5}, '2023-1-60-085': {'name': 'Jannat', 'age': 20, 'CGPA': 3.99}}\n",
            "<class 'dict'>\n"
          ]
        }
      ],
      "source": [
        "student = {'2022-1-60-38': {'name':'Audri','age':28,'CGPA':3.50},\n",
        "           '2022-1-60-35': {'name':'D','age':28,'CGPA':3.50},\n",
        "           '2022-1-60-37': {'name':'R','age':28,'CGPA':3.50},\n",
        "           '2022-1-60-40': {'name':'G','age':28,'CGPA':3.50},\n",
        "           '2023-1-60-085':{'name':'Jannat','age':20, 'CGPA':3.99}}\n",
        "print(student)\n",
        "print(type(student))\n"
      ]
    },
    {
      "cell_type": "code",
      "execution_count": null,
      "metadata": {
        "colab": {
          "base_uri": "https://localhost:8080/"
        },
        "id": "C1SSL3ppEsr5",
        "outputId": "9dacbb01-66f0-4161-e771-a11814f86192"
      },
      "outputs": [
        {
          "name": "stdout",
          "output_type": "stream",
          "text": [
            "Student ID: 2022-1-60-38\n",
            "student details: 28\n",
            "Student ID: 2022-1-60-35\n",
            "student details: 28\n",
            "Student ID: 2022-1-60-37\n",
            "student details: 28\n",
            "Student ID: 2022-1-60-40\n",
            "student details: 28\n",
            "Student ID: 2023-1-60-085\n",
            "student details: 20\n"
          ]
        }
      ],
      "source": [
        "for id in student.keys():\n",
        "  print(f\"Student ID: {id}\")\n",
        "  print(f\"student details: {student[id].get('age')}\")"
      ]
    },
    {
      "cell_type": "code",
      "execution_count": null,
      "metadata": {
        "colab": {
          "base_uri": "https://localhost:8080/"
        },
        "id": "sbqCbtbvFUyX",
        "outputId": "ca5131d0-0b24-4331-f0f8-754fcf35d0f0"
      },
      "outputs": [
        {
          "data": {
            "text/plain": [
              "{'name': 'Audri', 'age': 28, 'CGPA': 3.5}"
            ]
          },
          "execution_count": 18,
          "metadata": {},
          "output_type": "execute_result"
        }
      ],
      "source": [
        "student.pop('2022-1-60-38')"
      ]
    },
    {
      "cell_type": "code",
      "execution_count": null,
      "metadata": {
        "id": "Cn2yvEyCGvro"
      },
      "outputs": [],
      "source": [
        "del student['2022-1-60-40']"
      ]
    },
    {
      "cell_type": "code",
      "execution_count": null,
      "metadata": {
        "colab": {
          "base_uri": "https://localhost:8080/"
        },
        "id": "biB_HQvjHP7z",
        "outputId": "796fdb2f-39a9-4143-f3c5-5626acca5291"
      },
      "outputs": [
        {
          "name": "stdout",
          "output_type": "stream",
          "text": [
            "Student ID: 2022-1-60-35\n",
            "student details: 28\n",
            "Student ID: 2022-1-60-37\n",
            "student details: 28\n",
            "Student ID: 2023-1-60-085\n",
            "student details: 20\n"
          ]
        }
      ],
      "source": [
        "for id in student.keys():\n",
        "  print(f\"Student ID: {id}\")\n",
        "  print(f\"student details: {student[id].get('age')}\")"
      ]
    },
    {
      "cell_type": "code",
      "execution_count": null,
      "metadata": {
        "colab": {
          "base_uri": "https://localhost:8080/"
        },
        "id": "Yu_YbYGEHVHY",
        "outputId": "227a0df9-4916-41a1-c067-a5e95430e4f4"
      },
      "outputs": [
        {
          "name": "stdout",
          "output_type": "stream",
          "text": [
            "6\n",
            "7\n",
            "8\n",
            "9\n"
          ]
        }
      ],
      "source": [
        "i = 6\n",
        "r = 10\n",
        "while i<r:\n",
        "  print(i)\n",
        "  i+=1\n",
        "\n"
      ]
    },
    {
      "cell_type": "code",
      "execution_count": null,
      "metadata": {
        "colab": {
          "base_uri": "https://localhost:8080/"
        },
        "id": "plKaul3BOZJG",
        "outputId": "a54b70f3-a62a-411d-b818-119133d4d16f"
      },
      "outputs": [
        {
          "name": "stdout",
          "output_type": "stream",
          "text": [
            "[2, 4, 6, 8, 10, 12, 14, 16, 18, 20, 22, 24, 26, 28, 30, 32, 34, 36, 38, 40, 42, 44, 46, 48, 50, 52, 54, 56, 58, 60, 62, 64, 66, 68, 70, 72, 74, 76, 78, 80, 82, 84, 86, 88, 90, 92, 94, 96, 98, 100]\n"
          ]
        }
      ],
      "source": [
        "num = list(range(2,101,2))\n",
        "print(num)"
      ]
    },
    {
      "cell_type": "code",
      "execution_count": null,
      "metadata": {
        "colab": {
          "base_uri": "https://localhost:8080/"
        },
        "id": "TEIdKPhUPWIG",
        "outputId": "61e42c2d-343c-46f5-f2a3-aeff79e9f29a"
      },
      "outputs": [
        {
          "name": "stdout",
          "output_type": "stream",
          "text": [
            "{1, 2, 3}\n"
          ]
        }
      ],
      "source": [
        "myset = set([1,2,3])\n",
        "print(myset)"
      ]
    },
    {
      "cell_type": "code",
      "execution_count": null,
      "metadata": {
        "colab": {
          "base_uri": "https://localhost:8080/"
        },
        "id": "ZJV5ZA_EPwjB",
        "outputId": "9d8e3fbe-e967-4c6a-e275-5223940d24e9"
      },
      "outputs": [
        {
          "name": "stdout",
          "output_type": "stream",
          "text": [
            "<class 'set'>\n"
          ]
        }
      ],
      "source": [
        "print(type(myset))"
      ]
    },
    {
      "cell_type": "code",
      "execution_count": null,
      "metadata": {
        "colab": {
          "base_uri": "https://localhost:8080/"
        },
        "id": "n9B84fteP2OQ",
        "outputId": "c7da6565-5c6f-4e61-dc8b-f126bf025b04"
      },
      "outputs": [
        {
          "name": "stdout",
          "output_type": "stream",
          "text": [
            "Enter your number: 2\n"
          ]
        }
      ],
      "source": [
        "x = input(\"Enter your number: \")"
      ]
    },
    {
      "cell_type": "code",
      "execution_count": null,
      "metadata": {
        "colab": {
          "base_uri": "https://localhost:8080/"
        },
        "id": "kNP8p8eTQOsE",
        "outputId": "c847549b-18ae-4205-a478-f8bde976053e"
      },
      "outputs": [
        {
          "name": "stdout",
          "output_type": "stream",
          "text": [
            "2\n"
          ]
        }
      ],
      "source": [
        "print(x)"
      ]
    },
    {
      "cell_type": "markdown",
      "metadata": {
        "id": "TqShZaDY6wSj"
      },
      "source": [
        "Today we will see how to creat class and object\n"
      ]
    },
    {
      "cell_type": "code",
      "execution_count": null,
      "metadata": {
        "colab": {
          "base_uri": "https://localhost:8080/"
        },
        "id": "wCi4U4SK62jU",
        "outputId": "1c51a61f-cbfd-4183-868b-4a4712b110cf"
      },
      "outputs": [
        {
          "name": "stdout",
          "output_type": "stream",
          "text": [
            "5\n",
            "6\n"
          ]
        }
      ],
      "source": [
        "class MyClass:\n",
        "  x = 5\n",
        "  y = 6\n",
        "\n",
        "\n",
        "ob = MyClass()\n",
        "print(ob.x)\n",
        "print(ob.y)"
      ]
    },
    {
      "cell_type": "code",
      "execution_count": null,
      "metadata": {
        "colab": {
          "base_uri": "https://localhost:8080/"
        },
        "id": "tzsWZo7k7SW2",
        "outputId": "d27b7e9e-0fa7-4f99-c39d-2d7dc6a60bc4"
      },
      "outputs": [
        {
          "name": "stdout",
          "output_type": "stream",
          "text": [
            "Audri\n",
            "24\n"
          ]
        }
      ],
      "source": [
        "class person:\n",
        "  def __init__(self,name,age):\n",
        "    self.name = name\n",
        "    self.age = age\n",
        "\n",
        "\n",
        "ob = person(name=\"Audri\",age = 24)\n",
        "print(ob.name)\n",
        "print(ob.age)"
      ]
    },
    {
      "cell_type": "code",
      "execution_count": null,
      "metadata": {
        "colab": {
          "base_uri": "https://localhost:8080/"
        },
        "id": "vzhWGFp28I7d",
        "outputId": "7296bea2-ff14-49cf-9c77-ff2d66712c4a"
      },
      "outputs": [
        {
          "name": "stdout",
          "output_type": "stream",
          "text": [
            "Name: Audri, Age: 24\n"
          ]
        }
      ],
      "source": [
        "class Person:\n",
        "  def __init__(self,name,age):\n",
        "    self.name = name\n",
        "    self.age = age\n",
        "\n",
        "  def __str__(self):\n",
        "    return f\"Name: {self.name}, Age: {self.age}\"\n",
        "\n",
        "ob = Person(\"Audri\",24)\n",
        "print(ob)"
      ]
    },
    {
      "cell_type": "code",
      "execution_count": null,
      "metadata": {
        "colab": {
          "base_uri": "https://localhost:8080/"
        },
        "id": "3dvrN77h8scQ",
        "outputId": "056c0443-058c-4d7c-d09e-e04129287379"
      },
      "outputs": [
        {
          "name": "stdout",
          "output_type": "stream",
          "text": [
            "Name: Audri, Age: 24\n"
          ]
        }
      ],
      "source": [
        "class Person:\n",
        "  def __init__(abc,name,age):\n",
        "    abc.name = name\n",
        "    abc.age = age\n",
        "\n",
        "  def __str__(self):\n",
        "    return f\"Name: {self.name}, Age: {self.age}\"\n",
        "\n",
        "ob = Person(\"Audri\",24)\n",
        "print(ob)"
      ]
    },
    {
      "cell_type": "code",
      "execution_count": null,
      "metadata": {
        "id": "Eiee2weu9Tw9"
      },
      "outputs": [],
      "source": [
        "class Person:\n",
        "  pass"
      ]
    },
    {
      "cell_type": "code",
      "execution_count": null,
      "metadata": {
        "colab": {
          "base_uri": "https://localhost:8080/"
        },
        "id": "jmh9Z0Mp9lpH",
        "outputId": "51730c35-1fa7-4229-9858-32c56a0fe2d6"
      },
      "outputs": [
        {
          "name": "stdout",
          "output_type": "stream",
          "text": [
            "Name: Audri, Age: 24\n"
          ]
        }
      ],
      "source": [
        "class Person:\n",
        "  def __init__(self,name,age):\n",
        "    self.name = name\n",
        "    self.age = age\n",
        "\n",
        "  def __str__(self):\n",
        "    return f\"Name: {self.name}, Age: {self.age}\"\n",
        "\n",
        "x = Person(\"Audri\",24)\n",
        "print(x)"
      ]
    },
    {
      "cell_type": "code",
      "execution_count": null,
      "metadata": {
        "id": "Lzwqhchl_BOG"
      },
      "outputs": [],
      "source": [
        "class Student(Person):\n",
        "  def __init__(self,name,age):\n",
        "    super().__init__(name,age)\n",
        "    self.grade = \"A+\"\n",
        "\n",
        "  def welcome(self):\n",
        "    print(\"Welcome to our class\")\n",
        "\n",
        "  def __str__(self):\n",
        "    return f\"Name: {self.name}, Age: {self.age}, Grade: {self.grade}\"\n"
      ]
    },
    {
      "cell_type": "code",
      "execution_count": null,
      "metadata": {
        "colab": {
          "base_uri": "https://localhost:8080/"
        },
        "id": "9K3rlXn8_L8l",
        "outputId": "66de781a-a328-4ec3-ffad-046ddcb49410"
      },
      "outputs": [
        {
          "name": "stdout",
          "output_type": "stream",
          "text": [
            "Welcome to our class\n",
            "Name: Audri, Age: 24, Grade: A+\n"
          ]
        }
      ],
      "source": [
        "x = Student(\"Audri\",24)\n",
        "x.welcome()\n",
        "print(x)"
      ]
    },
    {
      "cell_type": "code",
      "execution_count": null,
      "metadata": {
        "colab": {
          "base_uri": "https://localhost:8080/"
        },
        "id": "2wmd8Zin_WRI",
        "outputId": "2940622e-3598-4771-fdd4-70bb78c046ad"
      },
      "outputs": [
        {
          "name": "stdout",
          "output_type": "stream",
          "text": [
            "audri\n",
            "Shayla\n",
            "Nabila\n",
            "Sadia\n"
          ]
        }
      ],
      "source": [
        "name = (\"audri\",\"Shayla\",\"Nabila\",\"Sadia\")\n",
        "myit = iter(name)\n",
        "print(next(myit))\n",
        "print(next(myit))\n",
        "print(next(myit))\n",
        "print(next(myit))"
      ]
    },
    {
      "cell_type": "code",
      "execution_count": null,
      "metadata": {
        "colab": {
          "base_uri": "https://localhost:8080/"
        },
        "id": "6J3QYBqPCVRh",
        "outputId": "26ce1210-f0bf-44e0-f6ed-638fa5895f09"
      },
      "outputs": [
        {
          "name": "stdout",
          "output_type": "stream",
          "text": [
            "A\n",
            "u\n",
            "d\n",
            "r\n",
            "i\n"
          ]
        }
      ],
      "source": [
        "name = \"Audri\"\n",
        "myit = iter(name)\n",
        "print(next(myit))\n",
        "print(next(myit))\n",
        "print(next(myit))\n",
        "print(next(myit))\n",
        "print(next(myit))"
      ]
    },
    {
      "cell_type": "code",
      "execution_count": null,
      "metadata": {
        "colab": {
          "base_uri": "https://localhost:8080/"
        },
        "id": "ge58_5WpCn8j",
        "outputId": "f6980841-3029-488b-b414-fa4575b6b583"
      },
      "outputs": [
        {
          "name": "stdout",
          "output_type": "stream",
          "text": [
            "1\n",
            "2\n",
            "3\n",
            "4\n",
            "5\n"
          ]
        }
      ],
      "source": [
        "\n",
        "class MyNumbers:\n",
        "  def __iter__(self):\n",
        "    self.a = 1\n",
        "    return self\n",
        "\n",
        "  def __next__(self):\n",
        "    x = self.a #2\n",
        "    self.a += 1\n",
        "    return x\n",
        "\n",
        "\n",
        "myiter = MyNumbers()\n",
        "myit = iter(myiter)# 1 2 3 4 5\n",
        "\n",
        "print(next(myit))\n",
        "print(next(myit))\n",
        "print(next(myit))\n",
        "print(next(myit))\n",
        "print(next(myit))"
      ]
    },
    {
      "cell_type": "code",
      "execution_count": null,
      "metadata": {
        "colab": {
          "base_uri": "https://localhost:8080/"
        },
        "id": "VyJa5OS7DyZu",
        "outputId": "d78fd39c-fe1f-4ead-fa8e-4ee093d1ee45"
      },
      "outputs": [
        {
          "name": "stdout",
          "output_type": "stream",
          "text": [
            "3\n"
          ]
        }
      ],
      "source": [
        "disk = {\n",
        "    \"name\": \"Audri\",\n",
        "    \"Age\" : 22,\n",
        "    \"year\" : 2024\n",
        "}\n",
        "\n",
        "print(len(disk))"
      ]
    },
    {
      "cell_type": "code",
      "execution_count": null,
      "metadata": {
        "colab": {
          "base_uri": "https://localhost:8080/"
        },
        "id": "-SKgFWZF5lX3",
        "outputId": "4d87ff6d-4934-44b9-b50a-ffd6cf428395"
      },
      "outputs": [
        {
          "name": "stdout",
          "output_type": "stream",
          "text": [
            "drive\n",
            "sail\n",
            "FLY\n"
          ]
        }
      ],
      "source": [
        "class Vehical:\n",
        "  def __init__(self,brand,model):\n",
        "    self.brand = brand\n",
        "    self.model = model\n",
        "\n",
        "  def move(self):\n",
        "    print(\"move\")\n",
        "\n",
        "\n",
        "class Car:\n",
        "  def __init__(self,brand,model):\n",
        "    self.brand = brand\n",
        "    self.model = model\n",
        "\n",
        "  def move(self):\n",
        "    print(\"drive\")\n",
        "\n",
        "class Boat:\n",
        "  def __init__(self,brand,model):\n",
        "    self.brand = brand\n",
        "    self.model = model\n",
        "\n",
        "  def move(self):\n",
        "    print(\"sail\")\n",
        "\n",
        "class Plane:\n",
        "  def __init__(self,brand,model):\n",
        "    self.brand = brand\n",
        "    self.model = model\n",
        "\n",
        "  def move(self):\n",
        "    print(\"FLY\")\n",
        "\n",
        "car = Car(\"Toyota\",\"2021CBC\")\n",
        "boat = Boat(\"Inra\",\"334\")\n",
        "plane = Plane(\"dark\",\"747\")\n",
        "\n",
        "for x in (car,boat,plane):\n",
        "  x.move()\n",
        "\n",
        "\n"
      ]
    },
    {
      "cell_type": "code",
      "execution_count": null,
      "metadata": {
        "colab": {
          "base_uri": "https://localhost:8080/"
        },
        "id": "hh3mcFVd8Pyc",
        "outputId": "967e5f69-2b6d-44ba-c387-3dc9df0dbb20"
      },
      "outputs": [
        {
          "name": "stdout",
          "output_type": "stream",
          "text": [
            "move\n",
            "Sail\n",
            "FLY\n"
          ]
        }
      ],
      "source": [
        "class Vehical:\n",
        "  def __init__(self,brand,model):\n",
        "    self.brand = brand\n",
        "    self.model = model\n",
        "\n",
        "  def move(self):\n",
        "    print(\"move\")\n",
        "\n",
        "\n",
        "class Car(Vehical):\n",
        "  pass\n",
        "\n",
        "\n",
        "class Boat(Vehical):\n",
        "  def move(self):\n",
        "    print(\"Sail\")\n",
        "\n",
        "\n",
        "\n",
        "class Plane(Vehical):\n",
        "  def move(self):\n",
        "    print(\"FLY\")\n",
        "\n",
        "car = Car(\"Toyota\",\"2021CBC\")\n",
        "boat = Boat(\"Inra\",\"334\")\n",
        "plane = Plane(\"dark\",\"747\")\n",
        "\n",
        "for x in (car,boat,plane):\n",
        "  x.move()\n",
        "\n",
        "\n"
      ]
    },
    {
      "cell_type": "code",
      "execution_count": null,
      "metadata": {
        "colab": {
          "base_uri": "https://localhost:8080/"
        },
        "id": "JCdo_r6R83m4",
        "outputId": "43419b9a-4f31-426f-fb00-c7946fd393e2"
      },
      "outputs": [
        {
          "name": "stdout",
          "output_type": "stream",
          "text": [
            "34\n"
          ]
        }
      ],
      "source": [
        "def myFun():\n",
        "  x = 34\n",
        "  def myInnerFun():\n",
        "    print(x)\n",
        "  myInnerFun()\n",
        "\n",
        "\n",
        "myFun()"
      ]
    },
    {
      "cell_type": "code",
      "execution_count": null,
      "metadata": {
        "colab": {
          "base_uri": "https://localhost:8080/"
        },
        "id": "uQJZPXOh-FWw",
        "outputId": "cc378a18-c9c4-4d80-affa-f933f71b5eb7"
      },
      "outputs": [
        {
          "name": "stdout",
          "output_type": "stream",
          "text": [
            "2024-06-15 17:40:10.328799\n"
          ]
        }
      ],
      "source": [
        "import datetime\n",
        "\n",
        "x = datetime.datetime.now()\n",
        "print(x)"
      ]
    },
    {
      "cell_type": "code",
      "execution_count": null,
      "metadata": {
        "colab": {
          "base_uri": "https://localhost:8080/"
        },
        "id": "X6Gyaywv_GyS",
        "outputId": "5413bd00-ca4d-41e5-967e-c1991b020f99"
      },
      "outputs": [
        {
          "name": "stdout",
          "output_type": "stream",
          "text": [
            "5\n",
            "67\n"
          ]
        }
      ],
      "source": [
        "x = min(5,20,70,89)\n",
        "print(x)\n",
        "\n",
        "y = max(3,5,6,7,5,3,2,4,67,4,6,6,7,8)\n",
        "print(y)"
      ]
    },
    {
      "cell_type": "code",
      "execution_count": null,
      "metadata": {
        "id": "XpAA-6SlAFpF"
      },
      "outputs": [],
      "source": []
    },
    {
      "cell_type": "code",
      "execution_count": null,
      "metadata": {
        "colab": {
          "base_uri": "https://localhost:8080/"
        },
        "id": "nh0vcdvR_4c4",
        "outputId": "cbe282d1-251d-436c-b939-cfaf9c3fdd2a"
      },
      "outputs": [
        {
          "name": "stdout",
          "output_type": "stream",
          "text": [
            "1\n"
          ]
        }
      ],
      "source": [
        "import math\n",
        "\n",
        "x = math.gcd(2,4,5,6,7)\n",
        "print(x)"
      ]
    },
    {
      "cell_type": "code",
      "execution_count": null,
      "metadata": {
        "colab": {
          "base_uri": "https://localhost:8080/"
        },
        "id": "gvhY9eR5AY6t",
        "outputId": "159dea15-b18e-4c55-c6e6-1ddca6894967"
      },
      "outputs": [
        {
          "name": "stdout",
          "output_type": "stream",
          "text": [
            "2\n"
          ]
        }
      ],
      "source": [
        "import json\n",
        "\n",
        "x = '{\"name\":\"audri\",\"age\":22,\"City\":\"Dhaka\",\"name\":\"a\",\"age\":2,\"City\":\"Borishal\"}'\n",
        "\n",
        "y = json.loads(x)\n",
        "\n",
        "print(y[\"age\"])"
      ]
    },
    {
      "cell_type": "code",
      "execution_count": null,
      "metadata": {
        "colab": {
          "base_uri": "https://localhost:8080/"
        },
        "id": "UjZF3h0YBOXq",
        "outputId": "7d7353b9-546a-4a58-f945-3037529f91a7"
      },
      "outputs": [
        {
          "name": "stdout",
          "output_type": "stream",
          "text": [
            "{\"name\": \"Audri\", \"Age\": 22, \"year\": 2024}\n"
          ]
        }
      ],
      "source": [
        "disk = {\n",
        "    \"name\": \"Audri\",\n",
        "    \"Age\" : 22,\n",
        "    \"year\" : 2024\n",
        "}\n",
        "\n",
        "y = json.dumps(disk)\n",
        "print(y)"
      ]
    },
    {
      "cell_type": "code",
      "execution_count": null,
      "metadata": {
        "colab": {
          "base_uri": "https://localhost:8080/"
        },
        "id": "njiO4Ts3BoxN",
        "outputId": "050a37da-d86a-4591-c400-963d9a9712a8"
      },
      "outputs": [
        {
          "name": "stdout",
          "output_type": "stream",
          "text": [
            "<class 'str'>\n"
          ]
        }
      ],
      "source": [
        "print(type(y))"
      ]
    },
    {
      "cell_type": "code",
      "execution_count": null,
      "metadata": {
        "colab": {
          "base_uri": "https://localhost:8080/"
        },
        "id": "ekPg7AUr0eVX",
        "outputId": "1103fd56-4086-4ebf-eabb-424f91cd1895"
      },
      "outputs": [
        {
          "name": "stdout",
          "output_type": "stream",
          "text": [
            "Audri is good.\n",
            "\n",
            "\n",
            "Hasan\n",
            "\n"
          ]
        }
      ],
      "source": [
        "f = open(\"Intro.txt\",\"r\")\n",
        "print(f.read())"
      ]
    },
    {
      "cell_type": "code",
      "execution_count": null,
      "metadata": {
        "colab": {
          "base_uri": "https://localhost:8080/"
        },
        "id": "nUA2-NPZ1PxG",
        "outputId": "1ea3a126-c654-4b20-bcb8-d6e22417d9e4"
      },
      "outputs": [
        {
          "name": "stdout",
          "output_type": "stream",
          "text": [
            "Audri is good.\n",
            "\n"
          ]
        }
      ],
      "source": [
        "f = open(\"Intro.txt\",\"r\")\n",
        "print(f.readline())"
      ]
    },
    {
      "cell_type": "code",
      "execution_count": null,
      "metadata": {
        "colab": {
          "base_uri": "https://localhost:8080/"
        },
        "id": "1R_32Kw710yp",
        "outputId": "6c9dd4e2-6145-461c-c9b3-82139cb2469e"
      },
      "outputs": [
        {
          "name": "stdout",
          "output_type": "stream",
          "text": [
            "[1 2 3 4]\n",
            "<class 'numpy.ndarray'>\n"
          ]
        }
      ],
      "source": [
        "import numpy as np\n",
        "arr = np.array([1,2,3,4])\n",
        "print(arr)\n",
        "print(type(arr))"
      ]
    },
    {
      "cell_type": "code",
      "execution_count": null,
      "metadata": {
        "colab": {
          "base_uri": "https://localhost:8080/"
        },
        "id": "kJnQGZAH4ITH",
        "outputId": "b00714e7-2ab5-4290-cf94-1605d10b9fa2"
      },
      "outputs": [
        {
          "name": "stdout",
          "output_type": "stream",
          "text": [
            "1.25.2\n"
          ]
        }
      ],
      "source": [
        "print(np.__version__)"
      ]
    },
    {
      "cell_type": "code",
      "execution_count": null,
      "metadata": {
        "colab": {
          "base_uri": "https://localhost:8080/"
        },
        "id": "ukiwU86n5er7",
        "outputId": "c11cd4ed-be29-45a0-cf31-537555b57e34"
      },
      "outputs": [
        {
          "name": "stdout",
          "output_type": "stream",
          "text": [
            "42\n"
          ]
        }
      ],
      "source": [
        "a = np.array(42)\n",
        "print(a)"
      ]
    },
    {
      "cell_type": "code",
      "execution_count": null,
      "metadata": {
        "colab": {
          "base_uri": "https://localhost:8080/"
        },
        "id": "NtdwFp-i5vhs",
        "outputId": "0239af71-201c-49e8-b5c2-30a05cf535d0"
      },
      "outputs": [
        {
          "name": "stdout",
          "output_type": "stream",
          "text": [
            "[1 2 3 4 5]\n"
          ]
        }
      ],
      "source": [
        "a = np.array([1,2,3,4,5])\n",
        "print(a)"
      ]
    },
    {
      "cell_type": "code",
      "execution_count": null,
      "metadata": {
        "colab": {
          "base_uri": "https://localhost:8080/"
        },
        "id": "3GdsZ4xU6bTQ",
        "outputId": "5348e731-adcd-409e-ae56-d9d7d00c5522"
      },
      "outputs": [
        {
          "data": {
            "text/plain": [
              "1"
            ]
          },
          "execution_count": 19,
          "metadata": {},
          "output_type": "execute_result"
        }
      ],
      "source": [
        "a.ndim"
      ]
    },
    {
      "cell_type": "code",
      "execution_count": null,
      "metadata": {
        "id": "otzWA5uL6bRB"
      },
      "outputs": [],
      "source": []
    },
    {
      "cell_type": "code",
      "execution_count": null,
      "metadata": {
        "colab": {
          "base_uri": "https://localhost:8080/"
        },
        "id": "nZ82rzK35vfj",
        "outputId": "fda41ddf-1173-4e8b-dab4-bd9077f2bc51"
      },
      "outputs": [
        {
          "name": "stdout",
          "output_type": "stream",
          "text": [
            "[[1 2 3]\n",
            " [4 5 6]\n",
            " [5 6 7]]\n"
          ]
        }
      ],
      "source": [
        "a = np.array([[1,2,3],[4,5,6],[5,6,7]])\n",
        "print(a)"
      ]
    },
    {
      "cell_type": "code",
      "execution_count": null,
      "metadata": {
        "colab": {
          "base_uri": "https://localhost:8080/"
        },
        "id": "Q6tUlSoE6O2D",
        "outputId": "bbe2de73-8286-4970-f2dd-8574c0ae2ae7"
      },
      "outputs": [
        {
          "data": {
            "text/plain": [
              "2"
            ]
          },
          "execution_count": 17,
          "metadata": {},
          "output_type": "execute_result"
        }
      ],
      "source": [
        "a.ndim"
      ]
    },
    {
      "cell_type": "code",
      "execution_count": null,
      "metadata": {
        "colab": {
          "base_uri": "https://localhost:8080/"
        },
        "id": "r9Xj6jwn6m8U",
        "outputId": "9568bba6-bbab-419d-bdb5-2cb55a10bedc"
      },
      "outputs": [
        {
          "name": "stdout",
          "output_type": "stream",
          "text": [
            "9\n"
          ]
        }
      ],
      "source": [
        "a = np.array([1,3,4,5,6])\n",
        "print(a[2] + a[3])"
      ]
    },
    {
      "cell_type": "code",
      "execution_count": null,
      "metadata": {
        "colab": {
          "base_uri": "https://localhost:8080/"
        },
        "id": "f6SrkxLl6z4n",
        "outputId": "fcab647f-6ea0-4297-d1f9-1f188516f62a"
      },
      "outputs": [
        {
          "name": "stdout",
          "output_type": "stream",
          "text": [
            "[1 2 3]\n"
          ]
        }
      ],
      "source": [
        "arr = np.array([1.1,2.2,3.3])\n",
        "newarr = arr.astype('i')\n",
        "print(newarr)"
      ]
    },
    {
      "cell_type": "code",
      "execution_count": null,
      "metadata": {
        "colab": {
          "base_uri": "https://localhost:8080/"
        },
        "id": "BXndy4y48Wta",
        "outputId": "407f3ead-d08c-4c44-aa62-c3a3ad075c7c"
      },
      "outputs": [
        {
          "name": "stdout",
          "output_type": "stream",
          "text": [
            "1\n",
            "2\n",
            "3\n"
          ]
        }
      ],
      "source": [
        "arr = np.array([1,2,3])\n",
        "for x in arr:\n",
        "  print(x)\n"
      ]
    },
    {
      "cell_type": "code",
      "execution_count": null,
      "metadata": {
        "colab": {
          "base_uri": "https://localhost:8080/"
        },
        "id": "L2eMjzyU7pFu",
        "outputId": "3dc449ca-8081-4385-a41b-5c82f40e803a"
      },
      "outputs": [
        {
          "name": "stdout",
          "output_type": "stream",
          "text": [
            "[[1 2 3]\n",
            " [4 5 6]\n",
            " [5 6 7]]\n",
            "[1 2 3]\n",
            "[4 5 6]\n",
            "[5 6 7]\n"
          ]
        }
      ],
      "source": [
        "a = np.array([[1,2,3],[4,5,6],[5,6,7]])\n",
        "print(a)\n",
        "for x in a:\n",
        "  print(x)"
      ]
    },
    {
      "cell_type": "code",
      "execution_count": null,
      "metadata": {
        "colab": {
          "base_uri": "https://localhost:8080/"
        },
        "id": "Y_CBONOT8zAC",
        "outputId": "51aa3e93-3889-470d-ed67-7f82ea66b55d"
      },
      "outputs": [
        {
          "name": "stdout",
          "output_type": "stream",
          "text": [
            "[1 2 3 4 5 6]\n"
          ]
        },
        {
          "data": {
            "text/plain": [
              "array([1, 2, 3, 4, 5, 6])"
            ]
          },
          "execution_count": 25,
          "metadata": {},
          "output_type": "execute_result"
        }
      ],
      "source": [
        "arr1 = np.array([1,2,3])\n",
        "arr2 = np.array([4,5,6])\n",
        "\n",
        "arr = np.concatenate((arr1,arr2))\n",
        "print(arr)\n",
        "arr"
      ]
    },
    {
      "cell_type": "code",
      "execution_count": null,
      "metadata": {
        "colab": {
          "base_uri": "https://localhost:8080/"
        },
        "id": "3oBNcFdU9MaG",
        "outputId": "30d7cf3f-c089-40bc-966d-c929eb8f24da"
      },
      "outputs": [
        {
          "name": "stdout",
          "output_type": "stream",
          "text": [
            "100\n",
            "0\n",
            "1\n",
            "2\n",
            "3\n",
            "4\n",
            "5\n",
            "6\n",
            "7\n",
            "8\n",
            "9\n",
            "10\n",
            "11\n",
            "12\n",
            "13\n",
            "14\n",
            "15\n",
            "16\n",
            "17\n",
            "18\n",
            "19\n",
            "20\n",
            "21\n",
            "22\n",
            "23\n",
            "24\n",
            "25\n",
            "26\n",
            "27\n",
            "28\n",
            "29\n",
            "30\n",
            "31\n",
            "32\n",
            "33\n",
            "34\n",
            "35\n",
            "36\n",
            "37\n",
            "38\n",
            "39\n",
            "40\n",
            "41\n",
            "42\n",
            "43\n",
            "44\n",
            "45\n",
            "46\n",
            "47\n",
            "48\n",
            "49\n",
            "50\n",
            "51\n",
            "52\n",
            "53\n",
            "54\n",
            "55\n",
            "56\n",
            "57\n",
            "58\n",
            "59\n",
            "60\n",
            "61\n",
            "62\n",
            "63\n",
            "64\n",
            "65\n",
            "66\n",
            "67\n",
            "68\n",
            "69\n",
            "70\n",
            "71\n",
            "72\n",
            "73\n",
            "74\n",
            "75\n",
            "76\n",
            "77\n",
            "78\n",
            "79\n",
            "80\n",
            "81\n",
            "82\n",
            "83\n",
            "84\n",
            "85\n",
            "86\n",
            "87\n",
            "88\n",
            "89\n",
            "90\n",
            "91\n",
            "92\n",
            "93\n",
            "94\n",
            "95\n",
            "96\n",
            "97\n",
            "98\n",
            "99\n"
          ]
        }
      ],
      "source": [
        "x = int(input())\n",
        "for i in range(x):\n",
        "  print(i)"
      ]
    },
    {
      "cell_type": "code",
      "execution_count": null,
      "metadata": {
        "colab": {
          "base_uri": "https://localhost:8080/"
        },
        "id": "fkmddfvRGv4R",
        "outputId": "63ce894f-26fd-4ca6-c7c2-6f92af7c8dc1"
      },
      "outputs": [
        {
          "name": "stdout",
          "output_type": "stream",
          "text": [
            "2\n",
            "3\n",
            "4\n",
            "5\n",
            "6\n"
          ]
        }
      ],
      "source": [
        "x = [2,3,4,5,6]\n",
        "for i in x:\n",
        "  print(i)"
      ]
    },
    {
      "cell_type": "code",
      "execution_count": null,
      "metadata": {
        "colab": {
          "base_uri": "https://localhost:8080/"
        },
        "id": "vKgFHA3NG5I6",
        "outputId": "8248d042-980d-42e0-cb16-230fe89669c5"
      },
      "outputs": [
        {
          "name": "stdout",
          "output_type": "stream",
          "text": [
            "How many number you wants to input in the list: 3\n",
            "23\n",
            "24\n",
            "25\n"
          ]
        }
      ],
      "source": [
        "x = int(input(\"How many number you wants to input in the list: \"))\n",
        "s = []\n",
        "for i in range(x):\n",
        "  a = int(input())\n",
        "  s.append(a)\n",
        "\n",
        "\n"
      ]
    },
    {
      "cell_type": "code",
      "execution_count": null,
      "metadata": {
        "colab": {
          "base_uri": "https://localhost:8080/"
        },
        "id": "lXsKDJrfHodc",
        "outputId": "d50f3561-c740-497e-ba28-2354de3b4001"
      },
      "outputs": [
        {
          "name": "stdout",
          "output_type": "stream",
          "text": [
            "23\n",
            "24\n",
            "25\n"
          ]
        }
      ],
      "source": [
        "for i in s:\n",
        "  print(i)"
      ]
    },
    {
      "cell_type": "code",
      "execution_count": null,
      "metadata": {
        "colab": {
          "base_uri": "https://localhost:8080/"
        },
        "id": "J8q3PPpVJcMV",
        "outputId": "91b818de-033e-44dd-92f7-918a8788bf41"
      },
      "outputs": [
        {
          "name": "stdout",
          "output_type": "stream",
          "text": [
            "[4 5 6]\n"
          ]
        }
      ],
      "source": [
        "import numpy as np\n",
        "arr = np.array([1,2,3,4,5,6,7])\n",
        "print(arr[3:6])"
      ]
    }
  ],
  "metadata": {
    "colab": {
      "include_colab_link": true,
      "provenance": []
    },
    "kernelspec": {
      "display_name": "Python 3",
      "name": "python3"
    },
    "language_info": {
      "name": "python"
    }
  },
  "nbformat": 4,
  "nbformat_minor": 0
}
